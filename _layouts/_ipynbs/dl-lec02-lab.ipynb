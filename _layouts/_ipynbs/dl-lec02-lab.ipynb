{
 "cells": [
  {
   "cell_type": "markdown",
   "metadata": {},
   "source": [
    "<br>\n",
    "<blockquote>Review</blockquote>"
   ]
  },
  {
   "cell_type": "markdown",
   "metadata": {},
   "source": [
    "#### Hypothesis and cost function"
   ]
  },
  {
   "cell_type": "markdown",
   "metadata": {},
   "source": [
    "**Linear Regression의 가설**   \n",
    "H(x) = Wx + b   \n",
    "\n",
    "Linear Regression에서 학습을 한다는 것은    \n",
    "**Cost(W,b)에서 W,b를 조정해서 `cost function`이 가장 작은 값이 되게 하는 것을 말한다.**"
   ]
  },
  {
   "cell_type": "markdown",
   "metadata": {},
   "source": [
    "#### TensorFlow Mechanics"
   ]
  },
  {
   "cell_type": "markdown",
   "metadata": {},
   "source": [
    "1. Build Graph using TensorFlow operations    \n",
    "그래프를 빌드   \n",
    "2. feed data and run graph (operation)   \n",
    "sess.run(op)   \n",
    "그래프를 실행   \n",
    "3. update variables in the graph (and return values)"
   ]
  },
  {
   "cell_type": "markdown",
   "metadata": {},
   "source": [
    "<br>\n",
    "<blockquote>1. Build Graph Using TF operations</blockquote>"
   ]
  },
  {
   "cell_type": "code",
   "execution_count": 50,
   "metadata": {},
   "outputs": [],
   "source": [
    "import tensorflow as tf\n",
    "\n",
    "# X and Y data\n",
    "\n",
    "x_train = [1,2,3]   \n",
    "y_train = [1,2,3]"
   ]
  },
  {
   "cell_type": "markdown",
   "metadata": {},
   "source": [
    "x가 1일때 y가 1을 의미\n",
    "\n",
    "\n"
   ]
  },
  {
   "cell_type": "code",
   "execution_count": 51,
   "metadata": {},
   "outputs": [],
   "source": [
    "W = tf.Variable(tf.random_normal([1]), name = 'weight') \n",
    "b = tf.Variable(tf.random_normal([1]), name = 'bias')\n",
    "\n",
    "#Our hypothesis xW+b\n",
    "\n",
    "hypothesis = x_train * W + b"
   ]
  },
  {
   "cell_type": "markdown",
   "metadata": {},
   "source": [
    "`W` weight와 `b` bias 를 `variable`로 정의할 수 있다.     \n",
    "텐서플로우가 사용하는 `variable`이다. (우리가 알고 있는 변수가 아님)   \n",
    "Trainable한 variable 학습시키는 과정에서 자기가 변경을 시킨다고 생각하면 됨.    \n",
    "Train data의` shape`이 어떻게 되는지 확인 -> 3   \n",
    "W, b는 보통 random 한 값으로 줌    \n",
    "`tf.random_normal([1])`  : rank가 1"
   ]
  },
  {
   "cell_type": "code",
   "execution_count": 52,
   "metadata": {},
   "outputs": [],
   "source": [
    "# cost/loss function\n",
    "\n",
    "cost = tf.reduce_mean(tf.square(hypothesis - y_train))"
   ]
  },
  {
   "cell_type": "markdown",
   "metadata": {},
   "source": [
    "cost(W,b) 함수 구현해주기    \n",
    "tf.reduce_mean 은 평균을 구해주는 함수"
   ]
  },
  {
   "cell_type": "code",
   "execution_count": 53,
   "metadata": {},
   "outputs": [],
   "source": [
    "# minimize\n",
    "\n",
    "optimizer = tf.train.GradientDescentOptimizer(learning_rate=0.01)\n",
    "train = optimizer.minimize(cost)"
   ]
  },
  {
   "cell_type": "markdown",
   "metadata": {},
   "source": [
    "최소가 되는 W,b찾는 과정"
   ]
  },
  {
   "cell_type": "markdown",
   "metadata": {},
   "source": [
    "<br>\n",
    "<blockquote>2. Run/update graph and get results </blockquote>"
   ]
  },
  {
   "cell_type": "code",
   "execution_count": 55,
   "metadata": {},
   "outputs": [],
   "source": [
    "# Launch the graph in a session\n",
    "\n",
    "sess = tf.Session()\n",
    "# Initializes global variables in the graph. \n",
    "\n",
    "sess.run(tf.global_variables_initializer())"
   ]
  },
  {
   "cell_type": "markdown",
   "metadata": {},
   "source": [
    "세션 생성   \n",
    "앞에서 variable W,b를 사용했었기에 이것을 실행하여 사용하기 전에 초기화해주는 과정"
   ]
  },
  {
   "cell_type": "code",
   "execution_count": null,
   "metadata": {},
   "outputs": [],
   "source": [
    "# Fit the line \n",
    "\n",
    "for step in range(2001):\n",
    "    sess.run(train) # train 노드 실행     \n",
    "    \n",
    "    if step % 20 == 0:\n",
    "        print(step, sess.run(cost), sess.run(W), sess.run(b))"
   ]
  },
  {
   "cell_type": "markdown",
   "metadata": {},
   "source": [
    "...   \n",
    "1820 2.3157206e-06 [1.0017675] [-0.00401769]   \n",
    "1840 2.1032172e-06 [1.0016845] [-0.00382897]   \n",
    "1860 1.91037e-06 [1.0016053] [-0.00364911]   \n",
    "1880 1.7349092e-06 [1.00153] [-0.00347771]   \n",
    "1900 1.5758334e-06 [1.0014579] [-0.00331431]   \n",
    "1920 1.4314047e-06 [1.0013896] [-0.0031586]   \n",
    "1940 1.2999959e-06 [1.0013243] [-0.00301024]   \n",
    "1960 1.1805964e-06 [1.0012621] [-0.00286886]   \n",
    "1980 1.0723634e-06 [1.001203] [-0.00273415]   \n",
    "2000 9.74206e-07 [1.0011464] [-0.00260576]   "
   ]
  },
  {
   "cell_type": "markdown",
   "metadata": {},
   "source": [
    "Minimize 를 하는 기능, 변수 `train`이라고 했다.   \n",
    "그래프 상에서 node 이름이 `train`\n",
    "train을 실행해줘야 최소화하는 과정을 거쳐  노드 `W`,`b` 까지 도달함.   \n",
    "`sess.run(변수)` 는 W를 그래프에 있는 노드의 값을 실행시킨다. (변수의 값을 볼 수 있음)    \n"
   ]
  },
  {
   "cell_type": "markdown",
   "metadata": {},
   "source": [
    "<br>\n",
    "<blockquote>Placeholder를 사용하여 Linear Regression 실행시키기</blockquote>\n",
    "\n"
   ]
  },
  {
   "cell_type": "markdown",
   "metadata": {},
   "source": [
    "##### Placeholder복습   \n",
    "선언과 동시에 초기화 하는 것이 아니라 일단 선언 후 그 다음 값을 전달한다.    \n",
    "따라서 반드시 실행 시 데이터가 제공되어야 한다.     \n",
    "여기서 값을 전달한다고 되어 있는데 이는 데이터를 상수값을 전달함과 같이 할당하는 것이 아니라 다른 텐서(Tensor)를 `placeholder`에 맵핑 시키는 것이라고 보면 된다.   \n"
   ]
  },
  {
   "cell_type": "markdown",
   "metadata": {},
   "source": [
    "- `x_train`, `y_train`의 리스트를 직접 주지 않고 아래처럼 사용 가능하다."
   ]
  },
  {
   "cell_type": "code",
   "execution_count": null,
   "metadata": {},
   "outputs": [],
   "source": [
    "X = tf.placeholder(tf.float32, shape = [None])\n",
    "Y = tf.placeholder(tf.float32, shape = [None])\n",
    "\n",
    "#Our hypothesis xW+b\n",
    "\n",
    "hypothesis = X * W + b\n",
    "\n",
    "# cost/loss function\n",
    "\n",
    "cost = tf.reduce_mean(tf.square(hypothesis - Y ))\n",
    "\n",
    "# minimize\n",
    "\n",
    "optimizer = tf.train.GradientDescentOptimizer(learning_rate=0.01)\n",
    "train = optimizer.minimize(cost)\n",
    "\n",
    "# Launch the graph in a session\n",
    "\n",
    "sess = tf.Session()\n",
    "# Initializes global variables in the graph. \n",
    "\n",
    "sess.run(tf.global_variables_initializer())\n",
    " \n",
    "for step in range(2001):\n",
    "    cost_val, W_bal, b_val, _ = sess.run([cost, W, b, train], feed_dict = {X:[1,2,3], Y:[1,2,3]})\n",
    "    if step % 20 == 0:\n",
    "        print(step, cost_val, W_bal, b_val)"
   ]
  },
  {
   "cell_type": "markdown",
   "metadata": {},
   "source": [
    "...   \n",
    "1840 2.8244409e-05 [0.99384236] [0.01399774]   \n",
    "1860 2.5652242e-05 [0.99413174] [0.0133399]   \n",
    "1880 2.3296976e-05 [0.99440753] [0.01271297]   \n",
    "1900 2.1158594e-05 [0.9946704] [0.01211551]   \n",
    "1920 1.9216977e-05 [0.99492073] [0.01154616]   \n",
    "1940 1.7453396e-05 [0.99515957] [0.01100355]   \n",
    "1960 1.5851172e-05 [0.995387] [0.01048642]   \n",
    "1980 1.439668e-05 [0.99560386] [0.00999357]    \n",
    "2000 1.3074913e-05 [0.9958104] [0.00952391]     "
   ]
  },
  {
   "cell_type": "markdown",
   "metadata": {},
   "source": [
    "sess.run 노드를 실행시, 여러개 동시에 실행이 가능하다.       \n",
    "Placeholders를 이용해서 train을 실행 시킬때, X,Y를 feed_dict로 넘겨줄 수 있다. "
   ]
  },
  {
   "cell_type": "markdown",
   "metadata": {},
   "source": [
    "<br>\n",
    "<blockquote>3. Testing our model</blockquote>"
   ]
  },
  {
   "cell_type": "code",
   "execution_count": 47,
   "metadata": {},
   "outputs": [
    {
     "name": "stdout",
     "output_type": "stream",
     "text": [
      "[4.988576  9.9676285]\n"
     ]
    }
   ],
   "source": [
    "print(sess.run(hypothesis, feed_dict={X:[5, 10]}))"
   ]
  },
  {
   "cell_type": "markdown",
   "metadata": {},
   "source": [
    "hypothesis 식에 테스트 데이터를 넣어 확인한 결과,   \n",
    "잘 동작하는 것을 확인할 수 있다. "
   ]
  },
  {
   "cell_type": "markdown",
   "metadata": {},
   "source": [
    "### 결론"
   ]
  },
  {
   "cell_type": "markdown",
   "metadata": {},
   "source": [
    "1. cost function으로 모델을 생성\n",
    "2. feed_dict에 train 데이터를 넣어 Run graph, Train을 시킨다\n",
    "3. 그래프의 W,b 가 업데이트 됨\n",
    "\n",
    "다음 시간엔, **Minimizing Cost**를 학습한다."
   ]
  },
  {
   "cell_type": "markdown",
   "metadata": {},
   "source": [
    "### References\n",
    "[모두를 위한 머신러닝/딥러닝 강의](https://hunkim.github.io/ml/)"
   ]
  },
  {
   "cell_type": "code",
   "execution_count": null,
   "metadata": {},
   "outputs": [],
   "source": []
  }
 ],
 "metadata": {
  "kernelspec": {
   "display_name": "Python 3",
   "language": "python",
   "name": "python3"
  },
  "language_info": {
   "codemirror_mode": {
    "name": "ipython",
    "version": 3
   },
   "file_extension": ".py",
   "mimetype": "text/x-python",
   "name": "python",
   "nbconvert_exporter": "python",
   "pygments_lexer": "ipython3",
   "version": "3.8.3"
  }
 },
 "nbformat": 4,
 "nbformat_minor": 2
}
